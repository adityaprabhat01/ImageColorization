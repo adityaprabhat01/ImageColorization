{
 "cells": [
  {
   "cell_type": "code",
   "execution_count": 3,
   "metadata": {},
   "outputs": [],
   "source": [
    "import os\n",
    "import cv2\n",
    "import torch\n",
    "import numpy as np\n",
    "import torch.nn as nn\n",
    "from tqdm import tqdm\n",
    "import torch.nn.functional as F\n",
    "import matplotlib.pyplot as plt\n",
    "from torchvision import datasets, transforms, utils"
   ]
  },
  {
   "cell_type": "code",
   "execution_count": null,
   "metadata": {},
   "outputs": [],
   "source": [
    "train_data = datasets.CIFAR10('CIFAR10', train = True, \n",
    "                         transform = transforms.Compose([transforms.ToTensor()]),\n",
    "                         download = True)\n",
    "\n",
    "train_batch = torch.utils.data.DataLoader(train_data, batch_size = 100, shuffle = True)"
   ]
  },
  {
   "cell_type": "code",
   "execution_count": 4,
   "metadata": {},
   "outputs": [],
   "source": [
    "def latent_space_vectors(size): #size is the number of samples in a batch\n",
    "    return torch.randn(size, 100, 1, 1).to(device)\n",
    "\n",
    "def real_data_target(size):\n",
    "    return (torch.ones(size)).to(device)\n",
    "\n",
    "def fake_data_target(size):\n",
    "    return (torch.zeros(size)).to(device)"
   ]
  },
  {
   "cell_type": "code",
   "execution_count": 5,
   "metadata": {},
   "outputs": [
    {
     "data": {
      "text/plain": [
       "Generator(\n",
       "  (rand1): ConvTranspose2d(100, 128, kernel_size=(4, 4), stride=(1, 1))\n",
       "  (rand2): ConvTranspose2d(128, 64, kernel_size=(4, 4), stride=(2, 2), padding=(1, 1))\n",
       "  (rand3): ConvTranspose2d(64, 64, kernel_size=(4, 4), stride=(2, 2), padding=(1, 1))\n",
       "  (rand4): ConvTranspose2d(64, 3, kernel_size=(4, 4), stride=(2, 2), padding=(1, 1))\n",
       "  (convE1): Conv2d(6, 64, kernel_size=(3, 3), stride=(1, 1), padding=(1, 1))\n",
       "  (convE2): Conv2d(64, 64, kernel_size=(3, 3), stride=(1, 1), padding=(1, 1))\n",
       "  (convE3): Conv2d(64, 128, kernel_size=(3, 3), stride=(1, 1), padding=(1, 1))\n",
       "  (convE4): Conv2d(128, 128, kernel_size=(3, 3), stride=(1, 1), padding=(1, 1))\n",
       "  (convE5): Conv2d(128, 256, kernel_size=(3, 3), stride=(1, 1), padding=(1, 1))\n",
       "  (convE6): Conv2d(256, 256, kernel_size=(3, 3), stride=(1, 1), padding=(1, 1))\n",
       "  (convE7): Conv2d(256, 512, kernel_size=(3, 3), stride=(1, 1), padding=(1, 1))\n",
       "  (convE8): Conv2d(512, 512, kernel_size=(3, 3), stride=(1, 1), padding=(1, 1))\n",
       "  (convE9): Conv2d(512, 1024, kernel_size=(3, 3), stride=(1, 1), padding=(1, 1))\n",
       "  (convE10): Conv2d(1024, 1024, kernel_size=(3, 3), stride=(1, 1), padding=(1, 1))\n",
       "  (convT1): ConvTranspose2d(1024, 512, kernel_size=(4, 4), stride=(2, 2), padding=(1, 1))\n",
       "  (convD1): Conv2d(1024, 512, kernel_size=(3, 3), stride=(1, 1), padding=(1, 1))\n",
       "  (convD2): Conv2d(512, 512, kernel_size=(3, 3), stride=(1, 1), padding=(1, 1))\n",
       "  (convT2): ConvTranspose2d(512, 256, kernel_size=(4, 4), stride=(2, 2), padding=(1, 1))\n",
       "  (convD3): Conv2d(512, 256, kernel_size=(3, 3), stride=(1, 1), padding=(1, 1))\n",
       "  (convD4): Conv2d(256, 256, kernel_size=(3, 3), stride=(1, 1), padding=(1, 1))\n",
       "  (convT3): ConvTranspose2d(256, 128, kernel_size=(4, 4), stride=(2, 2), padding=(1, 1))\n",
       "  (convD5): Conv2d(256, 128, kernel_size=(3, 3), stride=(1, 1), padding=(1, 1))\n",
       "  (convD6): Conv2d(128, 128, kernel_size=(3, 3), stride=(1, 1), padding=(1, 1))\n",
       "  (convT4): ConvTranspose2d(128, 64, kernel_size=(4, 4), stride=(2, 2), padding=(1, 1))\n",
       "  (convD7): Conv2d(128, 64, kernel_size=(3, 3), stride=(1, 1), padding=(1, 1))\n",
       "  (convD8): Conv2d(64, 64, kernel_size=(3, 3), stride=(1, 1), padding=(1, 1))\n",
       "  (convD9): Conv2d(64, 3, kernel_size=(3, 3), stride=(1, 1), padding=(1, 1))\n",
       ")"
      ]
     },
     "execution_count": 5,
     "metadata": {},
     "output_type": "execute_result"
    }
   ],
   "source": [
    "#generator will input a random noise of 100 (as usual) and the conditioned on the grayscale image (100, 1, 32, 32)\n",
    "#y is random noise and x in condition\n",
    "\n",
    "class Generator(nn.Module):\n",
    "    def __init__(self):\n",
    "        super().__init__()\n",
    "        \n",
    "        #UPSAMPLE RANDOM NOISE\n",
    "        \n",
    "        self.rand1 = nn.ConvTranspose2d(100, 128, kernel_size = 4, stride = 1, padding = 0)#4x4\n",
    "        self.rand2 = nn.ConvTranspose2d(128, 64, kernel_size = 4, stride = 2, padding = 1)#8x8\n",
    "        self.rand3 = nn.ConvTranspose2d(64, 64, kernel_size = 4, stride = 2, padding = 1)#16x16\n",
    "        self.rand4 = nn.ConvTranspose2d(64, 3, kernel_size = 4, stride = 2, padding = 1)#32x32\n",
    "        \n",
    "        #ENCODER\n",
    "        \n",
    "        self.convE1 = nn.Conv2d(6, 64, kernel_size = (3, 3), stride = 1, padding = 1)#32x32\n",
    "        self.convE2 = nn.Conv2d(64, 64, kernel_size = (3, 3), stride = 1, padding = 1)#32x32\n",
    "        self.convE3 = nn.Conv2d(64, 128, kernel_size = (3, 3), stride = 1, padding = 1)#16x16\n",
    "        self.convE4 = nn.Conv2d(128, 128, kernel_size = (3, 3), stride = 1, padding = 1)#16x16\n",
    "        self.convE5 = nn.Conv2d(128, 256, kernel_size = (3, 3), stride = 1, padding = 1)#8x8\n",
    "        self.convE6 = nn.Conv2d(256, 256, kernel_size = (3, 3), stride = 1, padding = 1)#8x8\n",
    "        self.convE7 = nn.Conv2d(256, 512, kernel_size = (3, 3), stride = 1, padding = 1)#4x4\n",
    "        self.convE8 = nn.Conv2d(512, 512, kernel_size = (3, 3), stride = 1, padding = 1)#4x4\n",
    "        self.convE9 = nn.Conv2d(512, 1024, kernel_size = (3, 3), stride = 1, padding = 1)#2x2\n",
    "        self.convE10 = nn.Conv2d(1024, 1024, kernel_size = (3, 3), stride = 1, padding = 1)#2x2\n",
    "        \n",
    "        #DECODER\n",
    "        \n",
    "        self.convT1 = nn.ConvTranspose2d(1024, 512, kernel_size = (4, 4), stride = 2, padding = 1)#4x4\n",
    "        #concat\n",
    "        self.convD1 = nn.Conv2d(1024, 512, kernel_size = (3, 3), stride = 1, padding = 1)#4x4\n",
    "        self.convD2 = nn.Conv2d(512, 512, kernel_size = (3, 3), stride = 1, padding = 1)#4x4\n",
    "        \n",
    "        self.convT2 = nn.ConvTranspose2d(512, 256, kernel_size = (4, 4), stride = 2, padding = 1)#8x8\n",
    "        #concat\n",
    "        self.convD3 = nn.Conv2d(512, 256, kernel_size = (3, 3), stride = 1, padding = 1)#8x8\n",
    "        self.convD4 = nn.Conv2d(256, 256, kernel_size = (3, 3), stride = 1, padding = 1)#8x8\n",
    "        \n",
    "        self.convT3 = nn.ConvTranspose2d(256, 128, kernel_size = (4, 4), stride = 2, padding = 1)#16x16\n",
    "        #concat\n",
    "        self.convD5 = nn.Conv2d(256, 128, kernel_size = (3, 3), stride = 1, padding = 1)#16x16\n",
    "        self.convD6 = nn.Conv2d(128, 128, kernel_size = (3, 3), stride = 1, padding = 1)#16x16\n",
    "        \n",
    "        self.convT4 = nn.ConvTranspose2d(128, 64, kernel_size = (4, 4), stride = 2, padding = 1)#32x32\n",
    "        #concat\n",
    "        self.convD7 = nn.Conv2d(128, 64, kernel_size = (3, 3), stride = 1, padding = 1)#32x32\n",
    "        self.convD8 = nn.Conv2d(64, 64, kernel_size = (3, 3), stride = 1, padding = 1)#32x32\n",
    "        self.convD9 = nn.Conv2d(64, 3, kernel_size = (3, 3), stride = 1, padding = 1)#32x32\n",
    "        \n",
    "        \n",
    "    def forward(self, x, y):\n",
    "        \n",
    "        #UPSAMPLE RANDOM NOISE\n",
    "        \n",
    "        x0 = F.leaky_relu(self.rand1(y))\n",
    "        x0 = F.leaky_relu(self.rand2(x0))\n",
    "        x0 = F.leaky_relu(self.rand3(x0))\n",
    "        x0 = F.leaky_relu(self.rand4(x0))\n",
    "        \n",
    "        x1 = torch.cat((x, x0), 1)\n",
    "        \n",
    "        #ENCODER\n",
    "        \n",
    "        x1 = F.leaky_relu(self.convE1(x))\n",
    "        x1_concat = F.leaky_relu(self.convE2(x1))\n",
    "        \n",
    "        x2 = F.max_pool2d(x1_concat, kernel_size = (2, 2), stride = 2, padding = 0)#16x16\n",
    "        x2 = F.leaky_relu(self.convE3(x2))\n",
    "        x2_concat = F.leaky_relu(self.convE4(x2))\n",
    "        \n",
    "        x3 = F.max_pool2d(x2_concat, kernel_size = (2, 2), stride = 2, padding = 0)#8x8\n",
    "        x3 = F.leaky_relu(self.convE5(x3))\n",
    "        x3_concat = F.leaky_relu(self.convE6(x3))\n",
    "        \n",
    "        x4 = F.max_pool2d(x3_concat, kernel_size = (2, 2), stride = 2, padding = 0)#4x4\n",
    "        x4 = F.leaky_relu(self.convE7(x4))\n",
    "        x4_concat = F.leaky_relu(self.convE8(x4))\n",
    "        \n",
    "        x5 = F.max_pool2d(x4_concat, kernel_size = (2, 2), stride = 2, padding = 0)#2x2\n",
    "        x5 = F.leaky_relu(self.convE9(x5))\n",
    "        x5 = F.leaky_relu(self.convE10(x5))\n",
    "        \n",
    "        #DECODER\n",
    "        \n",
    "        x5 = self.convT1(x5)#4x4\n",
    "        x5 = torch.cat((x5, x4_concat), 1)\n",
    "        x5 = F.leaky_relu(self.convD1(x5))\n",
    "        x5 = F.leaky_relu(self.convD2(x5))\n",
    "        \n",
    "        x5 = self.convT2(x5)#8x8\n",
    "        x5 = torch.cat((x5, x3_concat), 1)\n",
    "        x5 = F.leaky_relu(self.convD3(x5))\n",
    "        x5 = F.leaky_relu(self.convD4(x5))\n",
    "        \n",
    "        x5 = self.convT3(x5)#16x16\n",
    "        x5 = torch.cat((x5, x2_concat), 1)\n",
    "        x5 = F.leaky_relu(self.convD5(x5))\n",
    "        x5 = F.leaky_relu(self.convD6(x5))\n",
    "        \n",
    "        x5 = self.convT4(x5)#32x32\n",
    "        x5 = torch.cat((x5, x1_concat), 1)\n",
    "        x5 = F.leaky_relu(self.convD7(x5))\n",
    "        x5 = F.leaky_relu(self.convD8(x5))\n",
    "        x5 = torch.sigmoid(self.convD9(x5))\n",
    "        \n",
    "        return x5\n",
    "\n",
    "generator = Generator()\n",
    "device = torch.device('cpu')\n",
    "generator.to(device)"
   ]
  },
  {
   "cell_type": "code",
   "execution_count": 6,
   "metadata": {},
   "outputs": [
    {
     "data": {
      "text/plain": [
       "Discriminator(\n",
       "  (convE1): Conv2d(3, 64, kernel_size=(3, 3), stride=(1, 1), padding=(1, 1))\n",
       "  (convE2): Conv2d(64, 64, kernel_size=(3, 3), stride=(1, 1), padding=(1, 1))\n",
       "  (convE3): Conv2d(64, 128, kernel_size=(3, 3), stride=(1, 1), padding=(1, 1))\n",
       "  (convE4): Conv2d(128, 128, kernel_size=(3, 3), stride=(1, 1), padding=(1, 1))\n",
       "  (convE5): Conv2d(128, 256, kernel_size=(3, 3), stride=(1, 1), padding=(1, 1))\n",
       "  (convE6): Conv2d(256, 256, kernel_size=(3, 3), stride=(1, 1), padding=(1, 1))\n",
       "  (convE7): Conv2d(256, 512, kernel_size=(3, 3), stride=(1, 1), padding=(1, 1))\n",
       "  (convE8): Conv2d(512, 512, kernel_size=(3, 3), stride=(1, 1), padding=(1, 1))\n",
       "  (convE9): Conv2d(512, 1024, kernel_size=(3, 3), stride=(1, 1), padding=(1, 1))\n",
       "  (convE10): Conv2d(1024, 1024, kernel_size=(3, 3), stride=(1, 1), padding=(1, 1))\n",
       "  (convE11): Conv2d(1024, 1, kernel_size=(4, 4), stride=(2, 2), padding=(1, 1))\n",
       ")"
      ]
     },
     "execution_count": 6,
     "metadata": {},
     "output_type": "execute_result"
    }
   ],
   "source": [
    "class Discriminator(nn.Module):\n",
    "    def __init__(self):\n",
    "        super().__init__()\n",
    "        #ENCODER\n",
    "        \n",
    "        self.convE1 = nn.Conv2d(3, 64, kernel_size = (3, 3), stride = 1, padding = 1)#32x32\n",
    "        self.convE2 = nn.Conv2d(64, 64, kernel_size = (3, 3), stride = 1, padding = 1)#32x32\n",
    "        self.convE3 = nn.Conv2d(64, 128, kernel_size = (3, 3), stride = 1, padding = 1)#16x16\n",
    "        self.convE4 = nn.Conv2d(128, 128, kernel_size = (3, 3), stride = 1, padding = 1)#16x16\n",
    "        self.convE5 = nn.Conv2d(128, 256, kernel_size = (3, 3), stride = 1, padding = 1)#8x8\n",
    "        self.convE6 = nn.Conv2d(256, 256, kernel_size = (3, 3), stride = 1, padding = 1)#8x8\n",
    "        self.convE7 = nn.Conv2d(256, 512, kernel_size = (3, 3), stride = 1, padding = 1)#4x4\n",
    "        self.convE8 = nn.Conv2d(512, 512, kernel_size = (3, 3), stride = 1, padding = 1)#4x4\n",
    "        self.convE9 = nn.Conv2d(512, 1024, kernel_size = (3, 3), stride = 1, padding = 1)#2x2\n",
    "        self.convE10 = nn.Conv2d(1024, 1024, kernel_size = (3, 3), stride = 1, padding = 1)#2x2\n",
    "        self.convE11 = nn.Conv2d(1024, 1, kernel_size = (4, 4), stride = 2, padding = 1)#1x1\n",
    "        \n",
    "    def forward(self, x):\n",
    "        \n",
    "        x1 = F.leaky_relu(self.convE1(x))\n",
    "        x1_concat = F.leaky_relu(self.convE2(x1))\n",
    "        \n",
    "        x2 = F.max_pool2d(x1_concat, kernel_size = (2, 2), stride = 2, padding = 0)#256x256\n",
    "        x2 = F.leaky_relu(self.convE3(x2))\n",
    "        x2_concat = F.leaky_relu(self.convE4(x2))\n",
    "        \n",
    "        x3 = F.max_pool2d(x2_concat, kernel_size = (2, 2), stride = 2, padding = 0)#128x128\n",
    "        x3 = F.leaky_relu(self.convE5(x3))\n",
    "        x3_concat = F.leaky_relu(self.convE6(x3))\n",
    "        \n",
    "        x4 = F.max_pool2d(x3_concat, kernel_size = (2, 2), stride = 2, padding = 0)#64x64\n",
    "        x4 = F.leaky_relu(self.convE7(x4))\n",
    "        x4_concat = F.leaky_relu(self.convE8(x4))\n",
    "        \n",
    "        x5 = F.max_pool2d(x4_concat, kernel_size = (2, 2), stride = 2, padding = 0)#32x32\n",
    "        x5 = F.leaky_relu(self.convE9(x5))\n",
    "        x5 = F.leaky_relu(self.convE10(x5))\n",
    "        \n",
    "        x6 = torch.sigmoid(self.convE11(x5))\n",
    "        \n",
    "        return x6\n",
    "\n",
    "discriminator = Discriminator()\n",
    "discriminator.to(device)"
   ]
  },
  {
   "cell_type": "code",
   "execution_count": 7,
   "metadata": {},
   "outputs": [],
   "source": [
    "def train_generator(fake_image, fake_image_labels):\n",
    "    generator.zero_grad()\n",
    "    \n",
    "    prediction_fake_image = discriminator.forward(fake_image, fake_image_labels).view(100)\n",
    "    loss_fake_image = loss_function(prediction_fake_image, real_data_target(prediction_fake_image.size(0)))\n",
    "    loss_fake_image.backward()\n",
    "    optimizer_generator.step()\n",
    "    \n",
    "    return loss_fake_image"
   ]
  },
  {
   "cell_type": "code",
   "execution_count": 8,
   "metadata": {},
   "outputs": [],
   "source": [
    "def train_discriminator(real_image, fake_image, real_labels, fake_labels):\n",
    "    discriminator.zero_grad()\n",
    "    \n",
    "    #train on real images\n",
    "    prediction_real_image = discriminator.forward(real_image, real_labels).view(100)\n",
    "    loss_real_image = loss_function(prediction_real_image, real_data_target(prediction_real_image.size(0)))\n",
    "    loss_real_image.backward()\n",
    "    \n",
    "    #train on fake images\n",
    "    prediction_fake_image = discriminator.forward(fake_image, fake_labels).view(100)\n",
    "    loss_fake_image = loss_function(prediction_fake_image, fake_data_target(prediction_fake_image.size(0)))\n",
    "    loss_fake_image.backward()\n",
    "    \n",
    "    optimizer_discriminator.step()\n",
    "    \n",
    "    return loss_real_image + loss_fake_image, prediction_real_image, prediction_fake_image"
   ]
  },
  {
   "cell_type": "code",
   "execution_count": 9,
   "metadata": {},
   "outputs": [],
   "source": [
    "#prepare grayscale images"
   ]
  },
  {
   "cell_type": "code",
   "execution_count": null,
   "metadata": {},
   "outputs": [],
   "source": [
    "EPOCHS = 1\n",
    "\n",
    "#losses_D = np.zeros([100, 500])\n",
    "#losses_G = np.zeros([100, 500])\n",
    "\n",
    "for epoch in range(EPOCHS):\n",
    "    index = 0\n",
    "    for real_batch, _ in tqdm(train_batch):\n",
    "        \n",
    "        real_image = real_batch.to(device)\n",
    "        gray_scale = \n",
    "        fake_image = generator.forward(latent_space_vectors(100))\n",
    "        d_error, d_pred_real, d_pred_fake = train_discriminator(real_image, fake_image)\n",
    "        \n",
    "        fake_image = generator.forward(latent_space_vectors(100))\n",
    "        g_error = train_generator(fake_image)\n",
    "        #losses_D[epoch][index] = d_error\n",
    "        #losses_G[epoch][index] = g_error\n",
    "        #index += 1\n",
    "    print('Epoch = ' + str(epoch) + \"Discriminator loss = \" + str(d_error.data.cpu().numpy()) + \" Generator loss = \" + str(g_error.data.cpu().numpy()))"
   ]
  },
  {
   "cell_type": "code",
   "execution_count": 5,
   "metadata": {},
   "outputs": [],
   "source": [
    "for w,v in train_batch:\n",
    "    break"
   ]
  },
  {
   "cell_type": "code",
   "execution_count": null,
   "metadata": {},
   "outputs": [],
   "source": []
  },
  {
   "cell_type": "code",
   "execution_count": 276,
   "metadata": {},
   "outputs": [],
   "source": [
    "#def make_lut_u():\n",
    "#    return np.array([[[i,255-i,0] for i in range(256)]],dtype=np.uint8)\n",
    "\n",
    "#def make_lut_v():\n",
    "#    return np.array([[[0,255-i,i] for i in range(256)]],dtype=np.uint8)\n",
    "\n",
    "\n",
    "img = cv2.imread('0.png')\n",
    "\n",
    "img_yuv = cv2.cvtColor(img, cv2.COLOR_BGR2LAB)\n",
    "y, u, v = cv2.split(img_yuv)\n",
    "\n",
    "#lut_u, lut_v = make_lut_u(), make_lut_v()\n",
    "\n",
    "# Convert back to BGR so we can apply the LUT and stack the images\n",
    "y = cv2.cvtColor(y, cv2.COLOR_GRAY2BGR)\n",
    "#u = cv2.cvtColor(u, cv2.COLOR_GRAY2BGR)\n",
    "#v = cv2.cvtColor(v, cv2.COLOR_GRAY2BGR)\n",
    "\n",
    "#u_mapped = cv2.LUT(u, lut_u)\n",
    "#v_mapped = cv2.LUT(v, lut_v)\n",
    "\n",
    "#result = np.vstack([img, y, u_mapped, v_mapped])\n",
    "\n",
    "#cv2.imwrite('shed_combo.png', result)"
   ]
  },
  {
   "cell_type": "code",
   "execution_count": 16,
   "metadata": {},
   "outputs": [
    {
     "name": "stdout",
     "output_type": "stream",
     "text": [
      "4999\n",
      "4999\n",
      "4999\n",
      "4999\n",
      "4999\n",
      "4999\n",
      "4999\n",
      "4999\n",
      "4999\n",
      "4999\n"
     ]
    }
   ],
   "source": [
    "for root, dirs, files in os.walk('cifar10_raw'):\n",
    "    if files!=[] and root!='' and dirs==[]:\n",
    "        for i in range(len(files)):\n",
    "            img = cv2.imread(os.path.join(root, files[i]))\n",
    "            img_lab = cv2.cvtColor(img, cv2.COLOR_BGR2LAB)\n",
    "            l, a, b = cv2.split(img_lab)\n",
    "            cv2.imwrite(files[i], img_lab)\n",
    "        print(i)"
   ]
  },
  {
   "cell_type": "code",
   "execution_count": 15,
   "metadata": {},
   "outputs": [
    {
     "ename": "NameError",
     "evalue": "name 'root' is not defined",
     "output_type": "error",
     "traceback": [
      "\u001b[0;31m---------------------------------------------------------------------------\u001b[0m",
      "\u001b[0;31mNameError\u001b[0m                                 Traceback (most recent call last)",
      "\u001b[0;32m<ipython-input-15-552c0ba71b10>\u001b[0m in \u001b[0;36m<module>\u001b[0;34m\u001b[0m\n\u001b[0;32m----> 1\u001b[0;31m \u001b[0mroot\u001b[0m\u001b[0;34m\u001b[0m\u001b[0;34m\u001b[0m\u001b[0m\n\u001b[0m",
      "\u001b[0;31mNameError\u001b[0m: name 'root' is not defined"
     ]
    }
   ],
   "source": [
    "root"
   ]
  },
  {
   "cell_type": "code",
   "execution_count": 311,
   "metadata": {},
   "outputs": [
    {
     "data": {
      "text/plain": [
       "['Bird',\n",
       " 'Dog',\n",
       " 'Truck',\n",
       " 'Ship',\n",
       " 'Frog',\n",
       " 'Airplane',\n",
       " 'Deer',\n",
       " 'Automobile',\n",
       " 'Cat',\n",
       " 'Horse']"
      ]
     },
     "execution_count": 311,
     "metadata": {},
     "output_type": "execute_result"
    }
   ],
   "source": [
    "dirs"
   ]
  },
  {
   "cell_type": "code",
   "execution_count": 278,
   "metadata": {},
   "outputs": [
    {
     "data": {
      "text/plain": [
       "<matplotlib.image.AxesImage at 0x7fd7f27adf90>"
      ]
     },
     "execution_count": 278,
     "metadata": {},
     "output_type": "execute_result"
    },
    {
     "data": {
      "image/png": "[encoded data removed]",
      "text/plain": [
       "<Figure size 432x288 with 1 Axes>"
      ]
     },
     "metadata": {
      "needs_background": "light"
     },
     "output_type": "display_data"
    }
   ],
   "source": [
    "plt.imshow(y)"
   ]
  },
  {
   "cell_type": "code",
   "execution_count": 285,
   "metadata": {},
   "outputs": [],
   "source": [
    "img = cv2.imread('0.png')\n",
    "img_lab = cv2.cvtColor(img, cv2.COLOR_BGR2LAB)\n",
    "l, a, b = cv2.split(img_lab)"
   ]
  },
  {
   "cell_type": "code",
   "execution_count": 322,
   "metadata": {},
   "outputs": [
    {
     "data": {
      "text/plain": [
       "<matplotlib.image.AxesImage at 0x7fd7f2213dd0>"
      ]
     },
     "execution_count": 322,
     "metadata": {},
     "output_type": "execute_result"
    },
    {
     "data": {
      "image/png": "[encoded data removed]",
      "text/plain": [
       "<Figure size 432x288 with 1 Axes>"
      ]
     },
     "metadata": {
      "needs_background": "light"
     },
     "output_type": "display_data"
    }
   ],
   "source": [
    "l = l/255\n",
    "plt.imshow(img)"
   ]
  },
  {
   "cell_type": "code",
   "execution_count": null,
   "metadata": {},
   "outputs": [],
   "source": []
  },
  {
   "cell_type": "code",
   "execution_count": null,
   "metadata": {},
   "outputs": [],
   "source": []
  }
 ],
 "metadata": {
  "kernelspec": {
   "display_name": "Python 3",
   "language": "python",
   "name": "python3"
  },
  "language_info": {
   "codemirror_mode": {
    "name": "ipython",
    "version": 3
   },
   "file_extension": ".py",
   "mimetype": "text/x-python",
   "name": "python",
   "nbconvert_exporter": "python",
   "pygments_lexer": "ipython3",
   "version": "3.7.4"
  }
 },
 "nbformat": 4,
 "nbformat_minor": 4
}
