{
 "cells": [
  {
   "cell_type": "code",
   "execution_count": 1,
   "metadata": {},
   "outputs": [],
   "source": [
    "import os\n",
    "import cv2\n",
    "import torch\n",
    "import numpy as np\n",
    "from PIL import Image\n",
    "import torch.nn as nn\n",
    "from tqdm import tqdm\n",
    "import torch.optim as optim\n",
    "import torch.nn.functional as F\n",
    "import matplotlib.pyplot as plt\n",
    "from torchvision import datasets, transforms, utils"
   ]
  },
  {
   "cell_type": "code",
   "execution_count": 2,
   "metadata": {},
   "outputs": [
    {
     "name": "stdout",
     "output_type": "stream",
     "text": [
      "Files already downloaded and verified\n"
     ]
    }
   ],
   "source": [
    "train_data = datasets.CIFAR10('CIFAR10', train = True, \n",
    "                         transform = transforms.Compose([transforms.ToTensor()]),\n",
    "                         download = True)\n",
    "\n",
    "train_batch = torch.utils.data.DataLoader(train_data, batch_size = 100, shuffle = True)"
   ]
  },
  {
   "cell_type": "code",
   "execution_count": 11,
   "metadata": {},
   "outputs": [],
   "source": [
    "def latent_space_vectors(size): #size is the number of samples in a batch\n",
    "    return torch.randn(size, 100, 1, 1)#.to(device)\n",
    "\n",
    "def real_data_target(size):\n",
    "    return (torch.ones(size))#.to(device)\n",
    "\n",
    "def fake_data_target(size):\n",
    "    return (torch.zeros(size))#.to(device)"
   ]
  },
  {
   "cell_type": "code",
   "execution_count": 12,
   "metadata": {},
   "outputs": [
    {
     "data": {
      "text/plain": [
       "Generator(\n",
       "  (rand1): ConvTranspose2d(100, 128, kernel_size=(4, 4), stride=(1, 1))\n",
       "  (rand2): ConvTranspose2d(128, 64, kernel_size=(4, 4), stride=(2, 2), padding=(1, 1))\n",
       "  (rand3): ConvTranspose2d(64, 64, kernel_size=(4, 4), stride=(2, 2), padding=(1, 1))\n",
       "  (rand4): ConvTranspose2d(64, 3, kernel_size=(4, 4), stride=(2, 2), padding=(1, 1))\n",
       "  (convE1): Conv2d(4, 64, kernel_size=(3, 3), stride=(1, 1), padding=(1, 1))\n",
       "  (convE2): Conv2d(64, 64, kernel_size=(3, 3), stride=(1, 1), padding=(1, 1))\n",
       "  (convE3): Conv2d(64, 128, kernel_size=(3, 3), stride=(1, 1), padding=(1, 1))\n",
       "  (convE4): Conv2d(128, 128, kernel_size=(3, 3), stride=(1, 1), padding=(1, 1))\n",
       "  (convE5): Conv2d(128, 256, kernel_size=(3, 3), stride=(1, 1), padding=(1, 1))\n",
       "  (convE6): Conv2d(256, 256, kernel_size=(3, 3), stride=(1, 1), padding=(1, 1))\n",
       "  (convE7): Conv2d(256, 512, kernel_size=(3, 3), stride=(1, 1), padding=(1, 1))\n",
       "  (convE8): Conv2d(512, 512, kernel_size=(3, 3), stride=(1, 1), padding=(1, 1))\n",
       "  (convE9): Conv2d(512, 1024, kernel_size=(3, 3), stride=(1, 1), padding=(1, 1))\n",
       "  (convE10): Conv2d(1024, 1024, kernel_size=(3, 3), stride=(1, 1), padding=(1, 1))\n",
       "  (convT1): ConvTranspose2d(1024, 512, kernel_size=(4, 4), stride=(2, 2), padding=(1, 1))\n",
       "  (convD1): Conv2d(1024, 512, kernel_size=(3, 3), stride=(1, 1), padding=(1, 1))\n",
       "  (convD2): Conv2d(512, 512, kernel_size=(3, 3), stride=(1, 1), padding=(1, 1))\n",
       "  (convT2): ConvTranspose2d(512, 256, kernel_size=(4, 4), stride=(2, 2), padding=(1, 1))\n",
       "  (convD3): Conv2d(512, 256, kernel_size=(3, 3), stride=(1, 1), padding=(1, 1))\n",
       "  (convD4): Conv2d(256, 256, kernel_size=(3, 3), stride=(1, 1), padding=(1, 1))\n",
       "  (convT3): ConvTranspose2d(256, 128, kernel_size=(4, 4), stride=(2, 2), padding=(1, 1))\n",
       "  (convD5): Conv2d(256, 128, kernel_size=(3, 3), stride=(1, 1), padding=(1, 1))\n",
       "  (convD6): Conv2d(128, 128, kernel_size=(3, 3), stride=(1, 1), padding=(1, 1))\n",
       "  (convT4): ConvTranspose2d(128, 64, kernel_size=(4, 4), stride=(2, 2), padding=(1, 1))\n",
       "  (convD7): Conv2d(128, 64, kernel_size=(3, 3), stride=(1, 1), padding=(1, 1))\n",
       "  (convD8): Conv2d(64, 64, kernel_size=(3, 3), stride=(1, 1), padding=(1, 1))\n",
       "  (convD9): Conv2d(64, 2, kernel_size=(3, 3), stride=(1, 1), padding=(1, 1))\n",
       ")"
      ]
     },
     "execution_count": 12,
     "metadata": {},
     "output_type": "execute_result"
    }
   ],
   "source": [
    "#generator will input a random noise of 100 (as usual) and the conditioned on the grayscale image (100, 1, 32, 32)\n",
    "#y is random noise and x in condition\n",
    "\n",
    "class Generator(nn.Module):\n",
    "    def __init__(self):\n",
    "        super().__init__()\n",
    "        \n",
    "        #UPSAMPLE RANDOM NOISE\n",
    "        \n",
    "        self.rand1 = nn.ConvTranspose2d(100, 128, kernel_size = 4, stride = 1, padding = 0)#4x4\n",
    "        self.rand2 = nn.ConvTranspose2d(128, 64, kernel_size = 4, stride = 2, padding = 1)#8x8\n",
    "        self.rand3 = nn.ConvTranspose2d(64, 64, kernel_size = 4, stride = 2, padding = 1)#16x16\n",
    "        self.rand4 = nn.ConvTranspose2d(64, 3, kernel_size = 4, stride = 2, padding = 1)#32x32\n",
    "        \n",
    "        #ENCODER\n",
    "        \n",
    "        self.convE1 = nn.Conv2d(4, 64, kernel_size = (3, 3), stride = 1, padding = 1)#32x32\n",
    "        self.convE2 = nn.Conv2d(64, 64, kernel_size = (3, 3), stride = 1, padding = 1)#32x32\n",
    "        self.convE3 = nn.Conv2d(64, 128, kernel_size = (3, 3), stride = 1, padding = 1)#16x16\n",
    "        self.convE4 = nn.Conv2d(128, 128, kernel_size = (3, 3), stride = 1, padding = 1)#16x16\n",
    "        self.convE5 = nn.Conv2d(128, 256, kernel_size = (3, 3), stride = 1, padding = 1)#8x8\n",
    "        self.convE6 = nn.Conv2d(256, 256, kernel_size = (3, 3), stride = 1, padding = 1)#8x8\n",
    "        self.convE7 = nn.Conv2d(256, 512, kernel_size = (3, 3), stride = 1, padding = 1)#4x4\n",
    "        self.convE8 = nn.Conv2d(512, 512, kernel_size = (3, 3), stride = 1, padding = 1)#4x4\n",
    "        self.convE9 = nn.Conv2d(512, 1024, kernel_size = (3, 3), stride = 1, padding = 1)#2x2\n",
    "        self.convE10 = nn.Conv2d(1024, 1024, kernel_size = (3, 3), stride = 1, padding = 1)#2x2\n",
    "        \n",
    "        #DECODER\n",
    "        \n",
    "        self.convT1 = nn.ConvTranspose2d(1024, 512, kernel_size = (4, 4), stride = 2, padding = 1)#4x4\n",
    "        #concat\n",
    "        self.convD1 = nn.Conv2d(1024, 512, kernel_size = (3, 3), stride = 1, padding = 1)#4x4\n",
    "        self.convD2 = nn.Conv2d(512, 512, kernel_size = (3, 3), stride = 1, padding = 1)#4x4\n",
    "        \n",
    "        self.convT2 = nn.ConvTranspose2d(512, 256, kernel_size = (4, 4), stride = 2, padding = 1)#8x8\n",
    "        #concat\n",
    "        self.convD3 = nn.Conv2d(512, 256, kernel_size = (3, 3), stride = 1, padding = 1)#8x8\n",
    "        self.convD4 = nn.Conv2d(256, 256, kernel_size = (3, 3), stride = 1, padding = 1)#8x8\n",
    "        \n",
    "        self.convT3 = nn.ConvTranspose2d(256, 128, kernel_size = (4, 4), stride = 2, padding = 1)#16x16\n",
    "        #concat\n",
    "        self.convD5 = nn.Conv2d(256, 128, kernel_size = (3, 3), stride = 1, padding = 1)#16x16\n",
    "        self.convD6 = nn.Conv2d(128, 128, kernel_size = (3, 3), stride = 1, padding = 1)#16x16\n",
    "        \n",
    "        self.convT4 = nn.ConvTranspose2d(128, 64, kernel_size = (4, 4), stride = 2, padding = 1)#32x32\n",
    "        #concat\n",
    "        self.convD7 = nn.Conv2d(128, 64, kernel_size = (3, 3), stride = 1, padding = 1)#32x32\n",
    "        self.convD8 = nn.Conv2d(64, 64, kernel_size = (3, 3), stride = 1, padding = 1)#32x32\n",
    "        self.convD9 = nn.Conv2d(64, 2, kernel_size = (3, 3), stride = 1, padding = 1)#32x32\n",
    "        \n",
    "        \n",
    "    def forward(self, x, y):\n",
    "        \n",
    "        #UPSAMPLE RANDOM NOISE\n",
    "        \n",
    "        x0 = F.leaky_relu(self.rand1(y))\n",
    "        x0 = F.leaky_relu(self.rand2(x0))\n",
    "        x0 = F.leaky_relu(self.rand3(x0))\n",
    "        x0 = F.leaky_relu(self.rand4(x0))\n",
    "        print(np.shape(x), np.shape(x0))\n",
    "        x1 = torch.cat((x0, x), 1)\n",
    "        \n",
    "        #ENCODER\n",
    "        \n",
    "        x1 = F.leaky_relu(self.convE1(x1))\n",
    "        x1_concat = F.leaky_relu(self.convE2(x1))\n",
    "        \n",
    "        x2 = F.max_pool2d(x1_concat, kernel_size = (2, 2), stride = 2, padding = 0)#16x16\n",
    "        x2 = F.leaky_relu(self.convE3(x2))\n",
    "        x2_concat = F.leaky_relu(self.convE4(x2))\n",
    "        \n",
    "        x3 = F.max_pool2d(x2_concat, kernel_size = (2, 2), stride = 2, padding = 0)#8x8\n",
    "        x3 = F.leaky_relu(self.convE5(x3))\n",
    "        x3_concat = F.leaky_relu(self.convE6(x3))\n",
    "        \n",
    "        x4 = F.max_pool2d(x3_concat, kernel_size = (2, 2), stride = 2, padding = 0)#4x4\n",
    "        x4 = F.leaky_relu(self.convE7(x4))\n",
    "        x4_concat = F.leaky_relu(self.convE8(x4))\n",
    "        \n",
    "        x5 = F.max_pool2d(x4_concat, kernel_size = (2, 2), stride = 2, padding = 0)#2x2\n",
    "        x5 = F.leaky_relu(self.convE9(x5))\n",
    "        x5 = F.leaky_relu(self.convE10(x5))\n",
    "        \n",
    "        #DECODER\n",
    "        \n",
    "        x5 = self.convT1(x5)#4x4\n",
    "        x5 = torch.cat((x5, x4_concat), 1)\n",
    "        x5 = F.leaky_relu(self.convD1(x5))\n",
    "        x5 = F.leaky_relu(self.convD2(x5))\n",
    "        \n",
    "        x5 = self.convT2(x5)#8x8\n",
    "        x5 = torch.cat((x5, x3_concat), 1)\n",
    "        x5 = F.leaky_relu(self.convD3(x5))\n",
    "        x5 = F.leaky_relu(self.convD4(x5))\n",
    "        \n",
    "        x5 = self.convT3(x5)#16x16\n",
    "        x5 = torch.cat((x5, x2_concat), 1)\n",
    "        x5 = F.leaky_relu(self.convD5(x5))\n",
    "        x5 = F.leaky_relu(self.convD6(x5))\n",
    "        \n",
    "        x5 = self.convT4(x5)#32x32\n",
    "        x5 = torch.cat((x5, x1_concat), 1)\n",
    "        x5 = F.leaky_relu(self.convD7(x5))\n",
    "        x5 = F.leaky_relu(self.convD8(x5))\n",
    "        x5 = torch.sigmoid(self.convD9(x5))\n",
    "        \n",
    "        return x5\n",
    "\n",
    "generator = Generator()\n",
    "device = torch.device('cpu')\n",
    "generator.to(device)"
   ]
  },
  {
   "cell_type": "code",
   "execution_count": 13,
   "metadata": {},
   "outputs": [
    {
     "data": {
      "text/plain": [
       "Discriminator(\n",
       "  (conv1): Conv2d(3, 3, kernel_size=(3, 3), stride=(1, 1), padding=(1, 1))\n",
       "  (conv1_labels): Conv2d(1, 3, kernel_size=(3, 3), stride=(1, 1), padding=(1, 1))\n",
       "  (convE1): Conv2d(6, 32, kernel_size=(3, 3), stride=(1, 1), padding=(1, 1))\n",
       "  (convE2): Conv2d(32, 64, kernel_size=(3, 3), stride=(1, 1), padding=(1, 1))\n",
       "  (convE3): Conv2d(64, 128, kernel_size=(3, 3), stride=(1, 1), padding=(1, 1))\n",
       "  (convE4): Conv2d(128, 128, kernel_size=(3, 3), stride=(1, 1), padding=(1, 1))\n",
       "  (convE5): Conv2d(128, 256, kernel_size=(3, 3), stride=(1, 1), padding=(1, 1))\n",
       "  (convE6): Conv2d(256, 256, kernel_size=(3, 3), stride=(1, 1), padding=(1, 1))\n",
       "  (convE7): Conv2d(256, 512, kernel_size=(3, 3), stride=(1, 1), padding=(1, 1))\n",
       "  (convE8): Conv2d(512, 512, kernel_size=(3, 3), stride=(1, 1), padding=(1, 1))\n",
       "  (convE9): Conv2d(512, 1024, kernel_size=(3, 3), stride=(1, 1), padding=(1, 1))\n",
       "  (convE10): Conv2d(1024, 1024, kernel_size=(3, 3), stride=(1, 1), padding=(1, 1))\n",
       "  (convE11): Conv2d(1024, 1, kernel_size=(4, 4), stride=(2, 2), padding=(1, 1))\n",
       ")"
      ]
     },
     "execution_count": 13,
     "metadata": {},
     "output_type": "execute_result"
    }
   ],
   "source": [
    "class Discriminator(nn.Module):\n",
    "    def __init__(self):\n",
    "        super().__init__()\n",
    "        #ENCODER\n",
    "        \n",
    "        self.conv1 = nn.Conv2d(3, 3, kernel_size = 3, stride = 1, padding = 1)#32x32\n",
    "        \n",
    "        self.conv1_labels = nn.Conv2d(1, 3, kernel_size = 3, stride = 1, padding = 1)#32x32\n",
    "        \n",
    "        self.convE1 = nn.Conv2d(6, 32, kernel_size = (3, 3), stride = 1, padding = 1)#32x32 #6to3\n",
    "        self.convE2 = nn.Conv2d(32, 64, kernel_size = (3, 3), stride = 1, padding = 1)#32x32\n",
    "        self.convE3 = nn.Conv2d(64, 128, kernel_size = (3, 3), stride = 1, padding = 1)#16x16\n",
    "        self.convE4 = nn.Conv2d(128, 128, kernel_size = (3, 3), stride = 1, padding = 1)#16x16\n",
    "        self.convE5 = nn.Conv2d(128, 256, kernel_size = (3, 3), stride = 1, padding = 1)#8x8\n",
    "        self.convE6 = nn.Conv2d(256, 256, kernel_size = (3, 3), stride = 1, padding = 1)#8x8\n",
    "        self.convE7 = nn.Conv2d(256, 512, kernel_size = (3, 3), stride = 1, padding = 1)#4x4\n",
    "        self.convE8 = nn.Conv2d(512, 512, kernel_size = (3, 3), stride = 1, padding = 1)#4x4\n",
    "        self.convE9 = nn.Conv2d(512, 1024, kernel_size = (3, 3), stride = 1, padding = 1)#2x2\n",
    "        self.convE10 = nn.Conv2d(1024, 1024, kernel_size = (3, 3), stride = 1, padding = 1)#2x2\n",
    "        self.convE11 = nn.Conv2d(1024, 1, kernel_size = (4, 4), stride = 2, padding = 1)#1x1\n",
    "        \n",
    "    def forward(self, x, y):\n",
    "        \n",
    "        x = self.conv1(x)\n",
    "        x = F.leaky_relu(x, 0.2)\n",
    "        y = self.conv1_labels(y)\n",
    "        y = F.leaky_relu(y, 0.2)\n",
    "        \n",
    "        x = torch.cat((x, y), 1)\n",
    "        \n",
    "        x1 = F.leaky_relu(self.convE1(x))\n",
    "        x1_concat = F.leaky_relu(self.convE2(x1))\n",
    "        \n",
    "        x2 = F.max_pool2d(x1_concat, kernel_size = (2, 2), stride = 2, padding = 0)#16x16\n",
    "        x2 = F.leaky_relu(self.convE3(x2))\n",
    "        x2_concat = F.leaky_relu(self.convE4(x2))\n",
    "        \n",
    "        x3 = F.max_pool2d(x2_concat, kernel_size = (2, 2), stride = 2, padding = 0)#8x8\n",
    "        x3 = F.leaky_relu(self.convE5(x3))\n",
    "        x3_concat = F.leaky_relu(self.convE6(x3))\n",
    "        \n",
    "        x4 = F.max_pool2d(x3_concat, kernel_size = (2, 2), stride = 2, padding = 0)#4x4\n",
    "        x4 = F.leaky_relu(self.convE7(x4))\n",
    "        x4_concat = F.leaky_relu(self.convE8(x4))\n",
    "        \n",
    "        x5 = F.max_pool2d(x4_concat, kernel_size = (2, 2), stride = 2, padding = 0)#2x2\n",
    "        x5 = F.leaky_relu(self.convE9(x5))\n",
    "        x5 = F.leaky_relu(self.convE10(x5))\n",
    "        \n",
    "        x6 = torch.sigmoid(self.convE11(x5))\n",
    "        return x6\n",
    "\n",
    "discriminator = Discriminator()\n",
    "discriminator.to(device)"
   ]
  },
  {
   "cell_type": "code",
   "execution_count": 14,
   "metadata": {},
   "outputs": [],
   "source": [
    "loss_function = torch.nn.BCELoss()\n",
    "optimizer_generator = optim.Adam(generator.parameters(), lr = 0.0002)\n",
    "optimizer_discriminator = optim.Adam(discriminator.parameters(), lr = 0.0002)"
   ]
  },
  {
   "cell_type": "code",
   "execution_count": 15,
   "metadata": {},
   "outputs": [],
   "source": [
    "def train_generator(fake_image, gray_scale):\n",
    "    generator.zero_grad()\n",
    "    \n",
    "    fake_image = torch.cat((fake_image, gray_scale), 1)\n",
    "    prediction_fake_image = discriminator.forward(fake_image, gray_scale).view(100)\n",
    "    loss_fake_image = loss_function(prediction_fake_image, real_data_target(prediction_fake_image.size(0)))\n",
    "    loss_fake_image.backward()\n",
    "    optimizer_generator.step()\n",
    "    \n",
    "    return loss_fake_image"
   ]
  },
  {
   "cell_type": "code",
   "execution_count": 16,
   "metadata": {},
   "outputs": [],
   "source": [
    "def train_discriminator(real_image, fake_image, gray_scale):\n",
    "    discriminator.zero_grad()\n",
    "    \n",
    "    #train on real images\n",
    "    prediction_real_image = discriminator.forward(real_image, gray_scale).view(100)\n",
    "    loss_real_image = loss_function(prediction_real_image, real_data_target(prediction_real_image.size(0)))\n",
    "    loss_real_image.backward()\n",
    "    \n",
    "    #train on fake images\n",
    "    fake_image = torch.cat((fake_image, gray_scale), 1)\n",
    "    prediction_fake_image = discriminator.forward(fake_image, gray_scale).view(100)\n",
    "    loss_fake_image = loss_function(prediction_fake_image, fake_data_target(prediction_fake_image.size(0)))\n",
    "    loss_fake_image.backward()\n",
    "    \n",
    "    optimizer_discriminator.step()\n",
    "    \n",
    "    return loss_real_image + loss_fake_image, prediction_real_image, prediction_fake_image"
   ]
  },
  {
   "cell_type": "code",
   "execution_count": null,
   "metadata": {},
   "outputs": [],
   "source": []
  },
  {
   "cell_type": "raw",
   "metadata": {},
   "source": [
    "torch.save(tensor, 'file.pt') and torch.load('file.pt')"
   ]
  },
  {
   "cell_type": "raw",
   "metadata": {},
   "source": [
    "for root, dirs, files in os.walk('cifar10_raw'):\n",
    "    if files!=[] and root!='' and dirs==[]:\n",
    "        for i in range(len(files)):\n",
    "            img = cv2.imread(os.path.join(root, files[i]))\n",
    "            img_lab = cv2.cvtColor(img, cv2.COLOR_BGR2LAB)\n",
    "            l, a, b = cv2.split(img_lab)\n",
    "            cv2.imwrite(files[i], img_lab)\n",
    "        print(i)"
   ]
  },
  {
   "cell_type": "code",
   "execution_count": null,
   "metadata": {},
   "outputs": [],
   "source": []
  },
  {
   "cell_type": "code",
   "execution_count": 17,
   "metadata": {},
   "outputs": [
    {
     "name": "stderr",
     "output_type": "stream",
     "text": [
      "\r",
      "0it [00:00, ?it/s]"
     ]
    },
    {
     "name": "stdout",
     "output_type": "stream",
     "text": [
      "torch.Size([100, 1, 32, 32]) torch.Size([100, 3, 32, 32])\n",
      "torch.Size([100, 1, 32, 32]) torch.Size([100, 3, 32, 32])\n",
      "Epoch = 0 Discriminator loss = 1.386109 Generator loss = 0.68956476\n"
     ]
    }
   ],
   "source": [
    "EPOCHS = 1\n",
    "\n",
    "#losses_D = np.zeros([100, 500])\n",
    "#losses_G = np.zeros([100, 500])\n",
    "\n",
    "for epoch in range(EPOCHS):\n",
    "    index = 0\n",
    "    for images, condition in tqdm(zip(LAB_images_batch, L_images_batch)):\n",
    "        \n",
    "        real_image = torch.tensor(images, dtype=torch.float)#.to(device)\n",
    "        gray_scale = torch.tensor(condition, dtype=torch.float)#.to(device)\n",
    "        fake_image = generator.forward(gray_scale, latent_space_vectors(100))\n",
    "        d_error, d_pred_real, d_pred_fake = train_discriminator(real_image, fake_image, gray_scale)\n",
    "        \n",
    "        fake_image = generator.forward(gray_scale, latent_space_vectors(100))\n",
    "        g_error = train_generator(fake_image, gray_scale)\n",
    "        \n",
    "        #losses_D[epoch][index] = d_error\n",
    "        #losses_G[epoch][index] = g_error\n",
    "        #index += 1\n",
    "        \n",
    "        print('Epoch = ' + str(epoch) + \" Discriminator loss = \" + str(d_error.data.cpu().numpy()) + \" Generator loss = \" + str(g_error.data.cpu().numpy()))\n",
    "        break"
   ]
  },
  {
   "cell_type": "code",
   "execution_count": null,
   "metadata": {},
   "outputs": [],
   "source": []
  },
  {
   "cell_type": "code",
   "execution_count": 3,
   "metadata": {},
   "outputs": [
    {
     "name": "stderr",
     "output_type": "stream",
     "text": [
      "/home/aditya/miniconda3/lib/python3.7/site-packages/ipykernel_launcher.py:7: UserWarning: To copy construct from a tensor, it is recommended to use sourceTensor.clone().detach() or sourceTensor.clone().detach().requires_grad_(True), rather than torch.tensor(sourceTensor).\n",
      "  import sys\n"
     ]
    }
   ],
   "source": [
    "i=0\n",
    "count = 0\n",
    "LAB_images_batch = np.zeros([500,100,3,32,32])\n",
    "L_images_batch = np.zeros([500,100,1,32,32])\n",
    "for m,v in train_batch:#each batch\n",
    "    for j in range(len(m)):#each sample\n",
    "        utils.save_image(torch.tensor(m[j]), os.path.join('pyTorch_cifar10' ,str(count)+'.png'))\n",
    "        temp = cv2.imread(os.path.join('pyTorch_cifar10' ,str(count)+'.png'))\n",
    "        temp = cv2.cvtColor(temp, cv2.COLOR_BGR2LAB)\n",
    "        l, a, b = cv2.split(temp)\n",
    "        L_images_batch = np.zeros([500,100,1,32,32])\n",
    "        L_images_batch[i][j] = l\n",
    "        temp = np.transpose(temp, (2,0,1)) \n",
    "        LAB_images_batch[i][j] = temp\n",
    "        count+=1\n",
    "    i+=1"
   ]
  },
  {
   "cell_type": "code",
   "execution_count": null,
   "metadata": {},
   "outputs": [],
   "source": []
  },
  {
   "cell_type": "code",
   "execution_count": null,
   "metadata": {},
   "outputs": [],
   "source": []
  }
 ],
 "metadata": {
  "kernelspec": {
   "display_name": "Python 3",
   "language": "python",
   "name": "python3"
  },
  "language_info": {
   "codemirror_mode": {
    "name": "ipython",
    "version": 3
   },
   "file_extension": ".py",
   "mimetype": "text/x-python",
   "name": "python",
   "nbconvert_exporter": "python",
   "pygments_lexer": "ipython3",
   "version": "3.7.4"
  }
 },
 "nbformat": 4,
 "nbformat_minor": 4
}
